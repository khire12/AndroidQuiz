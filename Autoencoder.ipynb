{
  "nbformat": 4,
  "nbformat_minor": 0,
  "metadata": {
    "colab": {
      "name": "Autoencoder.ipynb",
      "provenance": [],
      "collapsed_sections": []
    },
    "kernelspec": {
      "name": "python3",
      "display_name": "Python 3"
    },
    "accelerator": "GPU"
  },
  "cells": [
    {
      "cell_type": "code",
      "metadata": {
        "id": "6Q_K_vxHMZaQ",
        "colab_type": "code",
        "colab": {}
      },
      "source": [
        "from __future__ import absolute_import, division, print_function, unicode_literals\n",
        "import tensorflow as tf"
      ],
      "execution_count": 0,
      "outputs": []
    },
    {
      "cell_type": "code",
      "metadata": {
        "id": "gG1PnWWtM66A",
        "colab_type": "code",
        "outputId": "b7335e01-73aa-4d94-d849-3c965498212d",
        "colab": {
          "base_uri": "https://localhost:8080/",
          "height": 34
        }
      },
      "source": [
        "tf.__version__"
      ],
      "execution_count": 2,
      "outputs": [
        {
          "output_type": "execute_result",
          "data": {
            "text/plain": [
              "'1.15.0-rc3'"
            ]
          },
          "metadata": {
            "tags": []
          },
          "execution_count": 2
        }
      ]
    },
    {
      "cell_type": "code",
      "metadata": {
        "id": "ESuyAmU9NUew",
        "colab_type": "code",
        "colab": {
          "base_uri": "https://localhost:8080/",
          "height": 52
        },
        "outputId": "4fdeaa55-e5bc-4299-da17-841a5691e432"
      },
      "source": [
        "(X_train,_),(X_test,_) = tf.keras.datasets.mnist.load_data()"
      ],
      "execution_count": 3,
      "outputs": [
        {
          "output_type": "stream",
          "text": [
            "Downloading data from https://storage.googleapis.com/tensorflow/tf-keras-datasets/mnist.npz\n",
            "11493376/11490434 [==============================] - 0s 0us/step\n"
          ],
          "name": "stdout"
        }
      ]
    },
    {
      "cell_type": "code",
      "metadata": {
        "id": "7mlWPbRIOnvV",
        "colab_type": "code",
        "outputId": "b6565340-ddaf-4353-996a-788c716784ba",
        "colab": {
          "base_uri": "https://localhost:8080/",
          "height": 286
        }
      },
      "source": [
        "import matplotlib.pyplot as plt\n",
        "%matplotlib inline\n",
        "image_index = 8\n",
        "plt.imshow(X_train[image_index], cmap='Greys')"
      ],
      "execution_count": 5,
      "outputs": [
        {
          "output_type": "execute_result",
          "data": {
            "text/plain": [
              "<matplotlib.image.AxesImage at 0x7fef2c4192e8>"
            ]
          },
          "metadata": {
            "tags": []
          },
          "execution_count": 5
        },
        {
          "output_type": "display_data",
          "data": {
            "image/png": "[encoded data removed]",
            "text/plain": [
              "<Figure size 432x288 with 1 Axes>"
            ]
          },
          "metadata": {
            "tags": []
          }
        }
      ]
    },
    {
      "cell_type": "code",
      "metadata": {
        "id": "7217yVltR610",
        "colab_type": "code",
        "outputId": "7d30e5c3-1e51-4837-842b-2b7b35a8ac88",
        "colab": {
          "base_uri": "https://localhost:8080/",
          "height": 52
        }
      },
      "source": [
        "print(X_train.shape)\n",
        "print(X_train[0].shape)"
      ],
      "execution_count": 6,
      "outputs": [
        {
          "output_type": "stream",
          "text": [
            "(60000, 28, 28)\n",
            "(28, 28)\n"
          ],
          "name": "stdout"
        }
      ]
    },
    {
      "cell_type": "code",
      "metadata": {
        "id": "aB8ixZHvgvOb",
        "colab_type": "code",
        "colab": {}
      },
      "source": [
        "import numpy as np\n",
        "X_train = np.reshape(X_train, (len(X_train), 28, 28, 1))  # adapt this if using `channels_first` image data format\n",
        "X_test = np.reshape(X_test, (len(X_test), 28, 28, 1)) "
      ],
      "execution_count": 0,
      "outputs": []
    },
    {
      "cell_type": "code",
      "metadata": {
        "id": "b1rFk1rgSScn",
        "colab_type": "code",
        "colab": {}
      },
      "source": [
        "# X_train = X_train.reshape(X_train.shape[0], 28, 28, 1)\n",
        "# X_test = X_test.reshape(X_test.shape[0], 28, 28, 1)\n",
        "# input_shape = (28, 28, 1)\n",
        "X_train = X_train.reshape((len(X_train), np.prod(X_train.shape[1:])))\n",
        "X_test = X_test.reshape((len(X_test), np.prod(X_test.shape[1:])))"
      ],
      "execution_count": 0,
      "outputs": []
    },
    {
      "cell_type": "code",
      "metadata": {
        "id": "qOZttiHBSkLh",
        "colab_type": "code",
        "outputId": "73ca0559-2ef1-45c0-ebf0-56ba15967c44",
        "colab": {
          "base_uri": "https://localhost:8080/",
          "height": 34
        }
      },
      "source": [
        "X_train.shape"
      ],
      "execution_count": 13,
      "outputs": [
        {
          "output_type": "execute_result",
          "data": {
            "text/plain": [
              "(60000, 784)"
            ]
          },
          "metadata": {
            "tags": []
          },
          "execution_count": 13
        }
      ]
    },
    {
      "cell_type": "code",
      "metadata": {
        "id": "JRSpK7KjSnVy",
        "colab_type": "code",
        "colab": {}
      },
      "source": [
        "X_train = X_train.astype('float32')\n",
        "X_test = X_test.astype('float32')"
      ],
      "execution_count": 0,
      "outputs": []
    },
    {
      "cell_type": "code",
      "metadata": {
        "id": "Y6Ff1uk_TiSz",
        "colab_type": "code",
        "colab": {}
      },
      "source": [
        "X_train/=255.\n",
        "X_test/=255."
      ],
      "execution_count": 0,
      "outputs": []
    },
    {
      "cell_type": "code",
      "metadata": {
        "id": "bJwwpmL4Tolx",
        "colab_type": "code",
        "outputId": "f6ee4cc0-7d75-47c4-96cf-6f3eddea4816",
        "colab": {
          "base_uri": "https://localhost:8080/",
          "height": 86
        }
      },
      "source": [
        "print('X_train shape:', X_train.shape)\n",
        "print('X_test shape:', X_test.shape)\n",
        "print('Number of images in X_train', X_train.shape[0])\n",
        "print('Number of images in X_test', X_test.shape[0])"
      ],
      "execution_count": 16,
      "outputs": [
        {
          "output_type": "stream",
          "text": [
            "X_train shape: (60000, 784)\n",
            "X_test shape: (10000, 784)\n",
            "Number of images in X_train 60000\n",
            "Number of images in X_test 10000\n"
          ],
          "name": "stdout"
        }
      ]
    },
    {
      "cell_type": "code",
      "metadata": {
        "id": "lG32NPpiYPUP",
        "colab_type": "code",
        "colab": {}
      },
      "source": [
        ""
      ],
      "execution_count": 0,
      "outputs": []
    },
    {
      "cell_type": "code",
      "metadata": {
        "id": "JXkd2zb-TuMS",
        "colab_type": "code",
        "colab": {}
      },
      "source": [
        "model = tf.keras.models.Sequential([\n",
        "    tf.keras.layers.Dense(128, input_dim = 784,activation = 'relu' ),\n",
        "    tf.keras.layers.Dense(64,activation = 'relu'),\n",
        "     tf.keras.layers.Dense(32,activation = 'relu'),\n",
        "     tf.keras.layers.Dense(64,activation = 'relu'),\n",
        "     tf.keras.layers.Dense(128,activation = 'relu'),\n",
        "    tf.keras.layers.Dense(784,activation = 'sigmoid')\n",
        "])\n"
      ],
      "execution_count": 0,
      "outputs": []
    },
    {
      "cell_type": "code",
      "metadata": {
        "id": "VKW4c1m1biL2",
        "colab_type": "code",
        "outputId": "ad6f4642-68c9-4a14-a770-c5430ca489fa",
        "colab": {
          "base_uri": "https://localhost:8080/",
          "height": 363
        }
      },
      "source": [
        "model.summary()"
      ],
      "execution_count": 43,
      "outputs": [
        {
          "output_type": "stream",
          "text": [
            "Model: \"sequential_2\"\n",
            "_________________________________________________________________\n",
            "Layer (type)                 Output Shape              Param #   \n",
            "=================================================================\n",
            "dense_4 (Dense)              (None, 128)               100480    \n",
            "_________________________________________________________________\n",
            "dense_5 (Dense)              (None, 64)                8256      \n",
            "_________________________________________________________________\n",
            "dense_6 (Dense)              (None, 32)                2080      \n",
            "_________________________________________________________________\n",
            "dense_7 (Dense)              (None, 64)                2112      \n",
            "_________________________________________________________________\n",
            "dense_8 (Dense)              (None, 128)               8320      \n",
            "_________________________________________________________________\n",
            "dense_9 (Dense)              (None, 784)               101136    \n",
            "=================================================================\n",
            "Total params: 222,384\n",
            "Trainable params: 222,384\n",
            "Non-trainable params: 0\n",
            "_________________________________________________________________\n"
          ],
          "name": "stdout"
        }
      ]
    },
    {
      "cell_type": "code",
      "metadata": {
        "id": "ZYp5JCbOirEx",
        "colab_type": "code",
        "colab": {}
      },
      "source": [
        "model.compile(optimizer='adam', loss='binary_crossentropy',metrics=['accuracy'])"
      ],
      "execution_count": 0,
      "outputs": []
    },
    {
      "cell_type": "code",
      "metadata": {
        "id": "d6hXW6xxi5jO",
        "colab_type": "code",
        "outputId": "3b8ac9e2-b2c5-499b-a759-3553f910a4cf",
        "colab": {
          "base_uri": "https://localhost:8080/",
          "height": 898
        }
      },
      "source": [
        "history = model.fit(X_train, X_train,\n",
        "                epochs=25,\n",
        "                batch_size=256,\n",
        "                shuffle=True,\n",
        "                validation_data=(X_test, X_test))"
      ],
      "execution_count": 52,
      "outputs": [
        {
          "output_type": "stream",
          "text": [
            "Train on 60000 samples, validate on 10000 samples\n",
            "Epoch 1/25\n",
            "60000/60000 [==============================] - 1s 25us/sample - loss: 0.0038 - acc: 0.8088 - val_loss: 0.0039 - val_acc: 0.8072\n",
            "Epoch 2/25\n",
            "60000/60000 [==============================] - 1s 25us/sample - loss: 0.0038 - acc: 0.8088 - val_loss: 0.0039 - val_acc: 0.8072\n",
            "Epoch 3/25\n",
            "60000/60000 [==============================] - 1s 25us/sample - loss: 0.0038 - acc: 0.8088 - val_loss: 0.0039 - val_acc: 0.8072\n",
            "Epoch 4/25\n",
            "60000/60000 [==============================] - 1s 25us/sample - loss: 0.0038 - acc: 0.8088 - val_loss: 0.0039 - val_acc: 0.8072\n",
            "Epoch 5/25\n",
            "60000/60000 [==============================] - 1s 25us/sample - loss: 0.0038 - acc: 0.8088 - val_loss: 0.0039 - val_acc: 0.8072\n",
            "Epoch 6/25\n",
            "60000/60000 [==============================] - 2s 25us/sample - loss: 0.0038 - acc: 0.8088 - val_loss: 0.0038 - val_acc: 0.8072\n",
            "Epoch 7/25\n",
            "60000/60000 [==============================] - 2s 25us/sample - loss: 0.0038 - acc: 0.8088 - val_loss: 0.0038 - val_acc: 0.8072\n",
            "Epoch 8/25\n",
            "60000/60000 [==============================] - 1s 25us/sample - loss: 0.0038 - acc: 0.8088 - val_loss: 0.0038 - val_acc: 0.8072\n",
            "Epoch 9/25\n",
            "60000/60000 [==============================] - 2s 25us/sample - loss: 0.0038 - acc: 0.8088 - val_loss: 0.0038 - val_acc: 0.8072\n",
            "Epoch 10/25\n",
            "60000/60000 [==============================] - 1s 25us/sample - loss: 0.0038 - acc: 0.8088 - val_loss: 0.0038 - val_acc: 0.8072\n",
            "Epoch 11/25\n",
            "60000/60000 [==============================] - 1s 25us/sample - loss: 0.0038 - acc: 0.8088 - val_loss: 0.0038 - val_acc: 0.8072\n",
            "Epoch 12/25\n",
            "60000/60000 [==============================] - 1s 25us/sample - loss: 0.0038 - acc: 0.8088 - val_loss: 0.0038 - val_acc: 0.8072\n",
            "Epoch 13/25\n",
            "60000/60000 [==============================] - 1s 25us/sample - loss: 0.0038 - acc: 0.8088 - val_loss: 0.0038 - val_acc: 0.8072\n",
            "Epoch 14/25\n",
            "60000/60000 [==============================] - 2s 25us/sample - loss: 0.0037 - acc: 0.8088 - val_loss: 0.0038 - val_acc: 0.8072\n",
            "Epoch 15/25\n",
            "60000/60000 [==============================] - 1s 25us/sample - loss: 0.0037 - acc: 0.8088 - val_loss: 0.0038 - val_acc: 0.8072\n",
            "Epoch 16/25\n",
            "60000/60000 [==============================] - 1s 25us/sample - loss: 0.0037 - acc: 0.8088 - val_loss: 0.0038 - val_acc: 0.8072\n",
            "Epoch 17/25\n",
            "60000/60000 [==============================] - 1s 25us/sample - loss: 0.0037 - acc: 0.8088 - val_loss: 0.0038 - val_acc: 0.8072\n",
            "Epoch 18/25\n",
            "60000/60000 [==============================] - 1s 25us/sample - loss: 0.0037 - acc: 0.8088 - val_loss: 0.0038 - val_acc: 0.8072\n",
            "Epoch 19/25\n",
            "60000/60000 [==============================] - 1s 24us/sample - loss: 0.0037 - acc: 0.8088 - val_loss: 0.0038 - val_acc: 0.8072\n",
            "Epoch 20/25\n",
            "60000/60000 [==============================] - 1s 25us/sample - loss: 0.0037 - acc: 0.8088 - val_loss: 0.0038 - val_acc: 0.8072\n",
            "Epoch 21/25\n",
            "60000/60000 [==============================] - 1s 25us/sample - loss: 0.0037 - acc: 0.8088 - val_loss: 0.0038 - val_acc: 0.8072\n",
            "Epoch 22/25\n",
            "60000/60000 [==============================] - 1s 25us/sample - loss: 0.0037 - acc: 0.8088 - val_loss: 0.0038 - val_acc: 0.8072\n",
            "Epoch 23/25\n",
            "60000/60000 [==============================] - 2s 25us/sample - loss: 0.0037 - acc: 0.8088 - val_loss: 0.0038 - val_acc: 0.8072\n",
            "Epoch 24/25\n",
            "60000/60000 [==============================] - 1s 24us/sample - loss: 0.0037 - acc: 0.8088 - val_loss: 0.0038 - val_acc: 0.8072\n",
            "Epoch 25/25\n",
            "60000/60000 [==============================] - 1s 25us/sample - loss: 0.0037 - acc: 0.8088 - val_loss: 0.0037 - val_acc: 0.8072\n"
          ],
          "name": "stdout"
        }
      ]
    },
    {
      "cell_type": "code",
      "metadata": {
        "id": "_7HsKzcybaHo",
        "colab_type": "code",
        "outputId": "595a5db7-b857-478a-fda5-fab580af66c9",
        "colab": {
          "base_uri": "https://localhost:8080/",
          "height": 590
        }
      },
      "source": [
        "print(history.history.keys())\n",
        "# summarize history for accuracy\n",
        "plt.plot(history.history['acc'])\n",
        "plt.plot(history.history['val_acc'])\n",
        "plt.title('model accuracy')\n",
        "plt.ylabel('accuracy')\n",
        "plt.xlabel('epoch')\n",
        "plt.legend(['train', 'test'], loc='upper left')\n",
        "plt.show()\n",
        "# summarize history for loss\n",
        "plt.plot(history.history['loss'])\n",
        "plt.plot(history.history['val_loss'])\n",
        "plt.title('model loss')\n",
        "plt.ylabel('loss')\n",
        "plt.xlabel('epoch')\n",
        "plt.legend(['train', 'test'], loc='upper left')\n",
        "plt.show()"
      ],
      "execution_count": 53,
      "outputs": [
        {
          "output_type": "stream",
          "text": [
            "dict_keys(['loss', 'acc', 'val_loss', 'val_acc'])\n"
          ],
          "name": "stdout"
        },
        {
          "output_type": "display_data",
          "data": {
            "image/png": "[encoded data removed]",
            "text/plain": [
              "<Figure size 432x288 with 1 Axes>"
            ]
          },
          "metadata": {
            "tags": []
          }
        },
        {
          "output_type": "display_data",
          "data": {
            "image/png": "[encoded data removed]",
            "text/plain": [
              "<Figure size 432x288 with 1 Axes>"
            ]
          },
          "metadata": {
            "tags": []
          }
        }
      ]
    },
    {
      "cell_type": "code",
      "metadata": {
        "id": "_djTm8e3dL9U",
        "colab_type": "code",
        "colab": {}
      },
      "source": [
        "decoded_imgs = model.predict(X_test)"
      ],
      "execution_count": 0,
      "outputs": []
    },
    {
      "cell_type": "code",
      "metadata": {
        "id": "SDWIAQAKdshO",
        "colab_type": "code",
        "outputId": "1eee9659-71e1-420d-f743-aa257a8c6da3",
        "colab": {
          "base_uri": "https://localhost:8080/",
          "height": 286
        }
      },
      "source": [
        "image_index = 4\n",
        "plt.imshow(decoded_imgs[image_index].reshape(28,28), cmap='Greys')"
      ],
      "execution_count": 55,
      "outputs": [
        {
          "output_type": "execute_result",
          "data": {
            "text/plain": [
              "<matplotlib.image.AxesImage at 0x7feed85fb7b8>"
            ]
          },
          "metadata": {
            "tags": []
          },
          "execution_count": 55
        },
        {
          "output_type": "display_data",
          "data": {
            "image/png": "[encoded data removed]",
            "text/plain": [
              "<Figure size 432x288 with 1 Axes>"
            ]
          },
          "metadata": {
            "tags": []
          }
        }
      ]
    },
    {
      "cell_type": "code",
      "metadata": {
        "id": "j5_VW7LAfikI",
        "colab_type": "code",
        "outputId": "c3a26e2a-45c8-4019-8397-5231107acddf",
        "colab": {
          "base_uri": "https://localhost:8080/",
          "height": 34
        }
      },
      "source": [
        "decoded_imgs[0].shape"
      ],
      "execution_count": 56,
      "outputs": [
        {
          "output_type": "execute_result",
          "data": {
            "text/plain": [
              "(784,)"
            ]
          },
          "metadata": {
            "tags": []
          },
          "execution_count": 56
        }
      ]
    },
    {
      "cell_type": "code",
      "metadata": {
        "id": "RgZWNfgAdseI",
        "colab_type": "code",
        "outputId": "5d35a819-b170-4ce5-c0f4-37b6026f12d8",
        "colab": {
          "base_uri": "https://localhost:8080/",
          "height": 286
        }
      },
      "source": [
        "plt.imshow(X_test[image_index].reshape(28,28), cmap='Greys')"
      ],
      "execution_count": 57,
      "outputs": [
        {
          "output_type": "execute_result",
          "data": {
            "text/plain": [
              "<matplotlib.image.AxesImage at 0x7feed85df320>"
            ]
          },
          "metadata": {
            "tags": []
          },
          "execution_count": 57
        },
        {
          "output_type": "display_data",
          "data": {
            "image/png": "[encoded data removed]",
            "text/plain": [
              "<Figure size 432x288 with 1 Axes>"
            ]
          },
          "metadata": {
            "tags": []
          }
        }
      ]
    },
    {
      "cell_type": "code",
      "metadata": {
        "id": "XONrMPvyde0F",
        "colab_type": "code",
        "outputId": "c5e8d978-7b10-4d59-e91a-0f3d2a088e68",
        "colab": {
          "base_uri": "https://localhost:8080/",
          "height": 264
        }
      },
      "source": [
        "\n",
        "n = 10\n",
        "plt.figure(figsize=(20, 4))\n",
        "for i in range(n):\n",
        "    # display original\n",
        "    ax = plt.subplot(2, n, i+1)\n",
        "    plt.imshow(X_test[i].reshape(28, 28))\n",
        "    plt.gray()\n",
        "    ax.get_xaxis().set_visible(False)\n",
        "    ax.get_yaxis().set_visible(False)\n",
        "\n",
        "    # display reconstruction\n",
        "    ax = plt.subplot(2, n, i+1 + n)\n",
        "    plt.imshow(decoded_imgs[i].reshape(28, 28))\n",
        "    plt.gray()\n",
        "    ax.get_xaxis().set_visible(False)\n",
        "    ax.get_yaxis().set_visible(False)\n",
        "plt.show()"
      ],
      "execution_count": 58,
      "outputs": [
        {
          "output_type": "display_data",
          "data": {
            "image/png": "[encoded data removed]",
            "text/plain": [
              "<Figure size 1440x288 with 20 Axes>"
            ]
          },
          "metadata": {
            "tags": []
          }
        }
      ]
    },
    {
      "cell_type": "code",
      "metadata": {
        "id": "f32jeGdQdjHa",
        "colab_type": "code",
        "colab": {
          "base_uri": "https://localhost:8080/",
          "height": 1000
        },
        "outputId": "2f77ae7c-f690-4137-cc69-f1a4056574e9"
      },
      "source": [
        "model2 = tf.keras.models.Sequential([\n",
        "    tf.keras.layers.Dense(256, input_dim = 784,activation = 'relu'),\n",
        "    tf.keras.layers.Dense(128,activation = 'relu'),\n",
        "    tf.keras.layers.Dense(64,activation = 'relu'),\n",
        "    tf.keras.layers.Dense(32,activation = 'relu'),\n",
        "    tf.keras.layers.Dense(64,activation = 'relu'),\n",
        "    tf.keras.layers.Dense(128,activation = 'relu'),\n",
        "    tf.keras.layers.Dense(256,activation = 'relu'),\n",
        "    tf.keras.layers.Dense(784,activation = 'sigmoid')\n",
        "])\n",
        "model2.compile(optimizer='adam', loss='binary_crossentropy',metrics=['accuracy'])\n",
        "history2 = model2.fit(X_train, X_train,\n",
        "                epochs=50,\n",
        "                batch_size=128,\n",
        "                shuffle=True,\n",
        "                validation_data=(X_test, X_test))"
      ],
      "execution_count": 77,
      "outputs": [
        {
          "output_type": "stream",
          "text": [
            "Train on 60000 samples, validate on 10000 samples\n",
            "Epoch 1/50\n",
            "60000/60000 [==============================] - 3s 55us/sample - loss: 0.0414 - acc: 0.8076 - val_loss: 0.0040 - val_acc: 0.8072\n",
            "Epoch 2/50\n",
            "60000/60000 [==============================] - 3s 49us/sample - loss: 0.0039 - acc: 0.8088 - val_loss: 0.0040 - val_acc: 0.8072\n",
            "Epoch 3/50\n",
            "60000/60000 [==============================] - 3s 50us/sample - loss: 0.0039 - acc: 0.8088 - val_loss: 0.0040 - val_acc: 0.8072\n",
            "Epoch 4/50\n",
            "60000/60000 [==============================] - 3s 49us/sample - loss: 0.0039 - acc: 0.8088 - val_loss: 0.0040 - val_acc: 0.8072\n",
            "Epoch 5/50\n",
            "60000/60000 [==============================] - 3s 50us/sample - loss: 0.0039 - acc: 0.8088 - val_loss: 0.0039 - val_acc: 0.8072\n",
            "Epoch 6/50\n",
            "60000/60000 [==============================] - 3s 50us/sample - loss: 0.0039 - acc: 0.8088 - val_loss: 0.0039 - val_acc: 0.8072\n",
            "Epoch 7/50\n",
            "60000/60000 [==============================] - 3s 51us/sample - loss: 0.0039 - acc: 0.8088 - val_loss: 0.0039 - val_acc: 0.8072\n",
            "Epoch 8/50\n",
            "60000/60000 [==============================] - 3s 50us/sample - loss: 0.0039 - acc: 0.8088 - val_loss: 0.0039 - val_acc: 0.8072\n",
            "Epoch 9/50\n",
            "60000/60000 [==============================] - 3s 50us/sample - loss: 0.0039 - acc: 0.8088 - val_loss: 0.0039 - val_acc: 0.8072\n",
            "Epoch 10/50\n",
            "60000/60000 [==============================] - 3s 50us/sample - loss: 0.0039 - acc: 0.8088 - val_loss: 0.0039 - val_acc: 0.8072\n",
            "Epoch 11/50\n",
            "60000/60000 [==============================] - 3s 49us/sample - loss: 0.0038 - acc: 0.8088 - val_loss: 0.0039 - val_acc: 0.8072\n",
            "Epoch 12/50\n",
            "60000/60000 [==============================] - 3s 49us/sample - loss: 0.0038 - acc: 0.8088 - val_loss: 0.0038 - val_acc: 0.8072\n",
            "Epoch 13/50\n",
            "60000/60000 [==============================] - 3s 50us/sample - loss: 0.0038 - acc: 0.8088 - val_loss: 0.0038 - val_acc: 0.8072\n",
            "Epoch 14/50\n",
            "60000/60000 [==============================] - 3s 49us/sample - loss: 0.0038 - acc: 0.8088 - val_loss: 0.0038 - val_acc: 0.8072\n",
            "Epoch 15/50\n",
            "60000/60000 [==============================] - 3s 50us/sample - loss: 0.0038 - acc: 0.8088 - val_loss: 0.0038 - val_acc: 0.8072\n",
            "Epoch 16/50\n",
            "60000/60000 [==============================] - 3s 49us/sample - loss: 0.0037 - acc: 0.8088 - val_loss: 0.0038 - val_acc: 0.8072\n",
            "Epoch 17/50\n",
            "60000/60000 [==============================] - 3s 50us/sample - loss: 0.0037 - acc: 0.8088 - val_loss: 0.0038 - val_acc: 0.8072\n",
            "Epoch 18/50\n",
            "60000/60000 [==============================] - 3s 51us/sample - loss: 0.0037 - acc: 0.8088 - val_loss: 0.0038 - val_acc: 0.8072\n",
            "Epoch 19/50\n",
            "60000/60000 [==============================] - 3s 50us/sample - loss: 0.0037 - acc: 0.8088 - val_loss: 0.0038 - val_acc: 0.8072\n",
            "Epoch 20/50\n",
            "60000/60000 [==============================] - 3s 50us/sample - loss: 0.0037 - acc: 0.8088 - val_loss: 0.0038 - val_acc: 0.8072\n",
            "Epoch 21/50\n",
            "60000/60000 [==============================] - 3s 51us/sample - loss: 0.0037 - acc: 0.8088 - val_loss: 0.0038 - val_acc: 0.8072\n",
            "Epoch 22/50\n",
            "60000/60000 [==============================] - 3s 51us/sample - loss: 0.0037 - acc: 0.8088 - val_loss: 0.0038 - val_acc: 0.8072\n",
            "Epoch 23/50\n",
            "60000/60000 [==============================] - 3s 51us/sample - loss: 0.0037 - acc: 0.8088 - val_loss: 0.0038 - val_acc: 0.8072\n",
            "Epoch 24/50\n",
            "60000/60000 [==============================] - 3s 51us/sample - loss: 0.0037 - acc: 0.8088 - val_loss: 0.0037 - val_acc: 0.8072\n",
            "Epoch 25/50\n",
            "60000/60000 [==============================] - 3s 51us/sample - loss: 0.0037 - acc: 0.8088 - val_loss: 0.0037 - val_acc: 0.8072\n",
            "Epoch 26/50\n",
            "60000/60000 [==============================] - 3s 50us/sample - loss: 0.0037 - acc: 0.8088 - val_loss: 0.0037 - val_acc: 0.8072\n",
            "Epoch 27/50\n",
            "60000/60000 [==============================] - 3s 50us/sample - loss: 0.0037 - acc: 0.8088 - val_loss: 0.0037 - val_acc: 0.8072\n",
            "Epoch 28/50\n",
            "60000/60000 [==============================] - 3s 50us/sample - loss: 0.0037 - acc: 0.8088 - val_loss: 0.0037 - val_acc: 0.8072\n",
            "Epoch 29/50\n",
            "60000/60000 [==============================] - 3s 50us/sample - loss: 0.0037 - acc: 0.8088 - val_loss: 0.0037 - val_acc: 0.8072\n",
            "Epoch 30/50\n",
            "60000/60000 [==============================] - 3s 50us/sample - loss: 0.0037 - acc: 0.8088 - val_loss: 0.0037 - val_acc: 0.8072\n",
            "Epoch 31/50\n",
            "60000/60000 [==============================] - 3s 51us/sample - loss: 0.0037 - acc: 0.8088 - val_loss: 0.0037 - val_acc: 0.8072\n",
            "Epoch 32/50\n",
            "60000/60000 [==============================] - 3s 49us/sample - loss: 0.0037 - acc: 0.8088 - val_loss: 0.0037 - val_acc: 0.8072\n",
            "Epoch 33/50\n",
            "60000/60000 [==============================] - 3s 49us/sample - loss: 0.0037 - acc: 0.8088 - val_loss: 0.0037 - val_acc: 0.8072\n",
            "Epoch 34/50\n",
            "60000/60000 [==============================] - 3s 50us/sample - loss: 0.0037 - acc: 0.8088 - val_loss: 0.0037 - val_acc: 0.8072\n",
            "Epoch 35/50\n",
            "60000/60000 [==============================] - 3s 50us/sample - loss: 0.0037 - acc: 0.8088 - val_loss: 0.0037 - val_acc: 0.8072\n",
            "Epoch 36/50\n",
            "60000/60000 [==============================] - 3s 49us/sample - loss: 0.0037 - acc: 0.8088 - val_loss: 0.0037 - val_acc: 0.8072\n",
            "Epoch 37/50\n",
            "60000/60000 [==============================] - 3s 50us/sample - loss: 0.0037 - acc: 0.8088 - val_loss: 0.0037 - val_acc: 0.8072\n",
            "Epoch 38/50\n",
            "60000/60000 [==============================] - 3s 50us/sample - loss: 0.0037 - acc: 0.8088 - val_loss: 0.0037 - val_acc: 0.8072\n",
            "Epoch 39/50\n",
            "60000/60000 [==============================] - 3s 49us/sample - loss: 0.0037 - acc: 0.8088 - val_loss: 0.0037 - val_acc: 0.8072\n",
            "Epoch 40/50\n",
            "60000/60000 [==============================] - 3s 48us/sample - loss: 0.0036 - acc: 0.8088 - val_loss: 0.0037 - val_acc: 0.8072\n",
            "Epoch 41/50\n",
            "60000/60000 [==============================] - 3s 51us/sample - loss: 0.0036 - acc: 0.8088 - val_loss: 0.0037 - val_acc: 0.8072\n",
            "Epoch 42/50\n",
            "60000/60000 [==============================] - 3s 50us/sample - loss: 0.0036 - acc: 0.8088 - val_loss: 0.0037 - val_acc: 0.8072\n",
            "Epoch 43/50\n",
            "60000/60000 [==============================] - 3s 49us/sample - loss: 0.0036 - acc: 0.8088 - val_loss: 0.0037 - val_acc: 0.8072\n",
            "Epoch 44/50\n",
            "60000/60000 [==============================] - 3s 50us/sample - loss: 0.0036 - acc: 0.8088 - val_loss: 0.0037 - val_acc: 0.8072\n",
            "Epoch 45/50\n",
            "60000/60000 [==============================] - 3s 50us/sample - loss: 0.0036 - acc: 0.8088 - val_loss: 0.0037 - val_acc: 0.8072\n",
            "Epoch 46/50\n",
            "60000/60000 [==============================] - 3s 50us/sample - loss: 0.0036 - acc: 0.8088 - val_loss: 0.0037 - val_acc: 0.8072\n",
            "Epoch 47/50\n",
            "60000/60000 [==============================] - 3s 50us/sample - loss: 0.0036 - acc: 0.8088 - val_loss: 0.0037 - val_acc: 0.8072\n",
            "Epoch 48/50\n",
            "60000/60000 [==============================] - 3s 49us/sample - loss: 0.0036 - acc: 0.8088 - val_loss: 0.0037 - val_acc: 0.8072\n",
            "Epoch 49/50\n",
            "60000/60000 [==============================] - 3s 50us/sample - loss: 0.0036 - acc: 0.8088 - val_loss: 0.0037 - val_acc: 0.8072\n",
            "Epoch 50/50\n",
            "60000/60000 [==============================] - 3s 50us/sample - loss: 0.0036 - acc: 0.8088 - val_loss: 0.0037 - val_acc: 0.8072\n"
          ],
          "name": "stdout"
        }
      ]
    },
    {
      "cell_type": "code",
      "metadata": {
        "id": "3mib9GiYOPar",
        "colab_type": "code",
        "colab": {
          "base_uri": "https://localhost:8080/",
          "height": 590
        },
        "outputId": "56e5d125-2995-4a56-b0ab-7bbb769d7f41"
      },
      "source": [
        "decoded_imgs2 = model2.predict(X_test)\n",
        "print(history.history.keys())\n",
        "# summarize history for accuracy\n",
        "plt.plot(history2.history['acc'])\n",
        "plt.plot(history2.history['val_acc'])\n",
        "plt.title('model accuracy')\n",
        "plt.ylabel('accuracy')\n",
        "plt.xlabel('epoch')\n",
        "plt.legend(['train', 'test'], loc='upper left')\n",
        "plt.show()\n",
        "# summarize history for loss\n",
        "plt.plot(history2.history['loss'])\n",
        "plt.plot(history2.history['val_loss'])\n",
        "plt.title('model loss')\n",
        "plt.ylabel('loss')\n",
        "plt.xlabel('epoch')\n",
        "plt.legend(['train', 'test'], loc='upper left')\n",
        "plt.show()"
      ],
      "execution_count": 78,
      "outputs": [
        {
          "output_type": "stream",
          "text": [
            "dict_keys(['loss', 'acc', 'val_loss', 'val_acc'])\n"
          ],
          "name": "stdout"
        },
        {
          "output_type": "display_data",
          "data": {
            "image/png": "[encoded data removed]",
            "text/plain": [
              "<Figure size 432x288 with 1 Axes>"
            ]
          },
          "metadata": {
            "tags": []
          }
        },
        {
          "output_type": "display_data",
          "data": {
            "image/png": "[encoded data removed]",
            "text/plain": [
              "<Figure size 432x288 with 1 Axes>"
            ]
          },
          "metadata": {
            "tags": []
          }
        }
      ]
    },
    {
      "cell_type": "code",
      "metadata": {
        "id": "rTo-tIJBOR_K",
        "colab_type": "code",
        "colab": {
          "base_uri": "https://localhost:8080/",
          "height": 264
        },
        "outputId": "d3f976f1-798d-4ecd-f7b3-2e618a4b1679"
      },
      "source": [
        "n = 10\n",
        "plt.figure(figsize=(20, 4))\n",
        "for i in range(n):\n",
        "    # display original\n",
        "    ax = plt.subplot(2, n, i+1)\n",
        "    plt.imshow(X_test[i].reshape(28, 28))\n",
        "    plt.gray()\n",
        "    ax.get_xaxis().set_visible(False)\n",
        "    ax.get_yaxis().set_visible(False)\n",
        "\n",
        "    # display reconstruction\n",
        "    ax = plt.subplot(2, n, i+1 + n)\n",
        "    plt.imshow(decoded_imgs2[i].reshape(28, 28))\n",
        "    plt.gray()\n",
        "    ax.get_xaxis().set_visible(False)\n",
        "    ax.get_yaxis().set_visible(False)\n",
        "plt.show()"
      ],
      "execution_count": 79,
      "outputs": [
        {
          "output_type": "display_data",
          "data": {
            "image/png": "[encoded data removed]",
            "text/plain": [
              "<Figure size 1440x288 with 20 Axes>"
            ]
          },
          "metadata": {
            "tags": []
          }
        }
      ]
    },
    {
      "cell_type": "code",
      "metadata": {
        "id": "2xFaFIZNO53H",
        "colab_type": "code",
        "colab": {}
      },
      "source": [
        ""
      ],
      "execution_count": 0,
      "outputs": []
    }
  ]
}